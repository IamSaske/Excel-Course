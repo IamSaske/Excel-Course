{
 "cells": [
  {
   "cell_type": "markdown",
   "id": "698fc958",
   "metadata": {},
   "source": [
    "# MODULE 1"
   ]
  },
  {
   "cell_type": "markdown",
   "id": "9ab75c85",
   "metadata": {},
   "source": [
    "## EXCEL SHORTCUTS"
   ]
  },
  {
   "cell_type": "markdown",
   "id": "00ba9a29",
   "metadata": {},
   "source": [
    ">CTRL+RIGHT ARROW = to go at right end of workbook\n",
    "\n",
    ">CTRL+LEFT ARROW = to go at left end\n",
    "\n",
    ">CTRL+SPACE= to select entire column\n",
    "\n",
    ">SHIFT+SPACE= to select entire row\n",
    "\n",
    ">CTRL+ DOWN = to go at the bottom\n",
    "\n",
    ">CTRL + UP = to go at topside of workbook\n",
    "\n",
    ">FN+9 = to evaluate formula\n",
    "\n",
    ">CTRL+SHIFT+L = To open filter command\n",
    "\n",
    ">CTRL+F = to open find&replace\n",
    "\n",
    ">CTRL+1 = to open formatting box\n",
    "\n",
    ">CTRL+ALT+V = to open paste special\n",
    "\n",
    ">CTRL+SELECT = for multiple selection\n",
    "\n",
    ">CTRL+R = to copy cell data to it's right side cell\n",
    "\n",
    ">CTRL+D = to copy cell data to it's down cell\n",
    "\n",
    ">CTRL+SELECT= for multiple selection"
   ]
  },
  {
   "cell_type": "markdown",
   "id": "403eb630",
   "metadata": {},
   "source": [
    "## Overview"
   ]
  },
  {
   "cell_type": "markdown",
   "id": "401ff8ed",
   "metadata": {},
   "source": [
    ">Name bar - represent current cell name\n",
    "\n",
    ">Formula bar - represent data in cell\n",
    "\n",
    ">Adding new sheet - + button at bottom\n",
    "\n",
    ">If you want to remove extra gridlines, Go to view,uncheck gridlines\n",
    "\n",
    ">Inserting new column-right click+insert\n",
    "\n",
    ">TO hide columns select the columns,right click,select hide similarly you can unhide it\n",
    "\n",
    ">Similarly you can insert rows\n",
    "\n",
    ">Each cell has unique values\n",
    "\n",
    ">At bottom of worksheet which gives basic sum,count,average after selection of numbers\n",
    "\n",
    ">For wildcard entries---*for more than one char   ?for one char"
   ]
  },
  {
   "cell_type": "markdown",
   "id": "1be6cf41",
   "metadata": {},
   "source": [
    "### SHEETS"
   ]
  },
  {
   "cell_type": "markdown",
   "id": "eb095563",
   "metadata": {},
   "source": [
    ">Changing sheet name:\n",
    "\n",
    ">Double click on it--change name\n",
    "\n",
    "> OR right click on it,you will find more options there\n",
    "\n",
    "> Inserting new sheet--right click+insert\n",
    "\n",
    ">To move sheets,click on it and drag to desired position\n",
    "\n",
    ">To make a copy, CTRL+Select sheet+drag and drop to it's own sheet\n"
   ]
  },
  {
   "cell_type": "markdown",
   "id": "eb00dbfe",
   "metadata": {},
   "source": [
    "### ADDING BORDERS"
   ]
  },
  {
   "cell_type": "markdown",
   "id": "57dc0751",
   "metadata": {},
   "source": [
    ">select data + Go to Home + Select border + Select options from there"
   ]
  },
  {
   "cell_type": "markdown",
   "id": "ddb279fe",
   "metadata": {},
   "source": [
    "### ADDING COMMENTS"
   ]
  },
  {
   "cell_type": "markdown",
   "id": "12409552",
   "metadata": {},
   "source": [
    ">Go on cell,right click insert comment. You can see comment after howering mouse on it\n",
    "\n",
    ">To see which cells has comments, select data+go to find&select+comments option\n",
    "\n",
    ">To delete comments, right click+delete comment"
   ]
  },
  {
   "cell_type": "markdown",
   "id": "12c17585",
   "metadata": {},
   "source": [
    "### Formatting Basic"
   ]
  },
  {
   "cell_type": "markdown",
   "id": "6bb00b66",
   "metadata": {},
   "source": [
    ">You can find more number formats such as float,currency,short date\n",
    "\n",
    ">IMP short date and long dates format both consideres as number in excel"
   ]
  },
  {
   "cell_type": "markdown",
   "id": "7eb79b16",
   "metadata": {},
   "source": [
    "### ALINGMENT\n"
   ]
  },
  {
   "cell_type": "markdown",
   "id": "4fefdf8d",
   "metadata": {},
   "source": [
    "> Text aligns on right\n",
    "\n",
    ">Number aligns on left\n",
    "\n",
    ">Error aligns at middle\n",
    "\n",
    ">You can also merge more than one column for single cell"
   ]
  },
  {
   "cell_type": "markdown",
   "id": "f3dfa8e3",
   "metadata": {},
   "source": [
    "### Data Entry\n"
   ]
  },
  {
   "cell_type": "markdown",
   "id": "b8a8b8b5",
   "metadata": {},
   "source": [
    "> To enter data just go on cell and enters data\n",
    "\n",
    ">To move cell data drag that cell to desired place, to copy use CTRL+c\n",
    "\n",
    "> For deleting select and delete key\n",
    "\n",
    ">Excel allows 3 types data text,number and formula"
   ]
  },
  {
   "cell_type": "markdown",
   "id": "db258757",
   "metadata": {},
   "source": [
    "### Formating tools"
   ]
  },
  {
   "cell_type": "markdown",
   "id": "26c28dd2",
   "metadata": {},
   "source": [
    ">CTRL+1 to open formatting window\n",
    "\n",
    ">Home tab + Editing option + clear\n",
    "\n",
    "> You can clear tables,colours,shadows etc. with clear option\n",
    "\n",
    "#### Wrap Text\n",
    "\n",
    ">if text is going out of column you can use this to fit it, but it will change the height of column\n",
    "\n",
    "#### Merge&Centre\n",
    "\n",
    "> To join cell in more than one column we use merge&centre\n",
    "\n",
    "#### Shrink to fit \n",
    "\n",
    "> It will fit the text in column,but it will reduce it's size\n",
    "\n",
    "#### Format Painter\n",
    "\n",
    ">To copy the formatting to another cell use format painter\n",
    "\n",
    ">Select data+click on format painter+Click on desired location\n",
    "\n",
    ">To copy formatting at multiple positions: double click on format painter\n",
    "\n"
   ]
  },
  {
   "cell_type": "markdown",
   "id": "272faa61",
   "metadata": {},
   "source": [
    "### FIND & REPLACE"
   ]
  },
  {
   "cell_type": "markdown",
   "id": "bc24965c",
   "metadata": {},
   "source": [
    ">CTRL+F enter text to find and repalce"
   ]
  },
  {
   "cell_type": "markdown",
   "id": "d3ce6c7e",
   "metadata": {},
   "source": [
    "## Paste Special"
   ]
  },
  {
   "cell_type": "markdown",
   "id": "b7b3247f",
   "metadata": {},
   "source": [
    ">CTRL+ALT+V to open paste special box\n",
    "\n",
    ">You can only paste formats,formulas,values etc. as your requirements\n",
    "\n",
    "#### Performing operations with paste special\n",
    "\n",
    ">enter a number in different cell,CTRL+C\n",
    "\n",
    ">select data where you want to apply\n",
    "\n",
    ">CTRL+V,you will find all operations options there\n"
   ]
  },
  {
   "cell_type": "markdown",
   "id": "78b94e4f",
   "metadata": {},
   "source": [
    "## FREEZE PANES"
   ]
  },
  {
   "cell_type": "markdown",
   "id": "db3a6cad",
   "metadata": {},
   "source": [
    "> Go to view-- Freeze pane\n",
    "\n",
    ">1.Freeze top row--Top row will freeze\n",
    "\n",
    ">2.Freeze left column--Left column will freeze\n",
    "\n",
    ">3.Freeze both rows&coulmns\n",
    "  Go to the first cell,just after the intersection of row and column and then use freeze panes"
   ]
  },
  {
   "cell_type": "markdown",
   "id": "446cc05a",
   "metadata": {},
   "source": [
    "# Creating Tables"
   ]
  },
  {
   "cell_type": "markdown",
   "id": "0eed4896",
   "metadata": {},
   "source": [
    ">SELECT DATA+CTRL+T to give create table\n",
    "\n",
    ">You can use different kind of styling in it\n",
    "\n",
    ">YOu can sort data from the tabs available on headers or from inserting slicers\n",
    "\n",
    ">You can add column and rows just by dragging the cursor at bottom of table"
   ]
  },
  {
   "cell_type": "markdown",
   "id": "b7ef74f4",
   "metadata": {},
   "source": [
    "###  Autofill"
   ]
  },
  {
   "cell_type": "markdown",
   "id": "2341db5f",
   "metadata": {},
   "source": [
    ">Excel is smart enough to find patterns(example:1-10,months,1st-2nd)\n",
    "\n",
    ">write in cell and then just drag it down, excel will autofill\n",
    "\n",
    ">with fill option: Home + Editing + Fill + select step and values\n",
    "    \n",
    "#### Custom Lists\n",
    "    \n",
    ">if you want your own list store that you can use in dragging(eg.High,Medium,Low):\n",
    "\n",
    ">FILE--OPTIONS--ADVANCED--GENERAL--EDIT CUSTOM LIST--IMPORTLIST\n",
    "\n",
    "#### Flash FIll\n",
    "\n",
    ">Show example\n",
    "\n",
    "#### Introduction of text to column\n",
    "\n",
    ">Split text to multiple columns on delimitter\n",
    "\n",
    ">Select data--Data--Text to column--choose delimitter--choose where to apply--done\n",
    "\n"
   ]
  },
  {
   "cell_type": "code",
   "execution_count": null,
   "id": "e274ed65",
   "metadata": {},
   "outputs": [],
   "source": []
  }
 ],
 "metadata": {
  "kernelspec": {
   "display_name": "Python 3",
   "language": "python",
   "name": "python3"
  },
  "language_info": {
   "codemirror_mode": {
    "name": "ipython",
    "version": 3
   },
   "file_extension": ".py",
   "mimetype": "text/x-python",
   "name": "python",
   "nbconvert_exporter": "python",
   "pygments_lexer": "ipython3",
   "version": "3.9.5"
  }
 },
 "nbformat": 4,
 "nbformat_minor": 5
}
